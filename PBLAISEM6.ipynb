{
  "nbformat": 4,
  "nbformat_minor": 0,
  "metadata": {
    "colab": {
      "provenance": [],
      "authorship_tag": "ABX9TyM9R7DErvblBcQKEPAdeVuu",
      "include_colab_link": true
    },
    "kernelspec": {
      "name": "python3",
      "display_name": "Python 3"
    },
    "language_info": {
      "name": "python"
    }
  },
  "cells": [
    {
      "cell_type": "markdown",
      "metadata": {
        "id": "view-in-github",
        "colab_type": "text"
      },
      "source": [
        "<a href=\"https://colab.research.google.com/github/AtharvaW29/College-Admission-Prediction-System/blob/main/PBLAISEM6.ipynb\" target=\"_parent\"><img src=\"https://colab.research.google.com/assets/colab-badge.svg\" alt=\"Open In Colab\"/></a>"
      ]
    },
    {
      "cell_type": "code",
      "execution_count": 72,
      "metadata": {
        "id": "YvQrSL9RVhrO"
      },
      "outputs": [],
      "source": [
        "import numpy as np\n",
        "import pandas as pd\n",
        "import matplotlib.pyplot as plt\n",
        "import seaborn as sns\n",
        "from sklearn.model_selection import train_test_split\n",
        "from sklearn.metrics import mean_squared_error, accuracy_score\n",
        "from sklearn import preprocessing\n",
        "from sklearn.preprocessing import LabelEncoder\n",
        "from sklearn.ensemble import RandomForestRegressor\n",
        "from sklearn.preprocessing import MinMaxScaler, OneHotEncoder"
      ]
    },
    {
      "cell_type": "code",
      "source": [
        "df = pd.read_csv('/content/Round2_JeeMain_Cutoff_2017-2022.csv')\n",
        "df = df.iloc[:,:7]\n",
        "df"
      ],
      "metadata": {
        "colab": {
          "base_uri": "https://localhost:8080/",
          "height": 424
        },
        "id": "v06xCdTqbuEC",
        "outputId": "22a05335-28c9-4781-c8f5-4ab70b6c7782"
      },
      "execution_count": 73,
      "outputs": [
        {
          "output_type": "execute_result",
          "data": {
            "text/plain": [
              "                                               Institute  \\\n",
              "0      Dr. B R Ambedkar National Institute of Technol...   \n",
              "1      Dr. B R Ambedkar National Institute of Technol...   \n",
              "2      Dr. B R Ambedkar National Institute of Technol...   \n",
              "3      Dr. B R Ambedkar National Institute of Technol...   \n",
              "4      Dr. B R Ambedkar National Institute of Technol...   \n",
              "...                                                  ...   \n",
              "34694                            University of Hyderabad   \n",
              "34695                            University of Hyderabad   \n",
              "34696                            University of Hyderabad   \n",
              "34697                            University of Hyderabad   \n",
              "34698                            University of Hyderabad   \n",
              "\n",
              "                                   Academic Program Name Quota   Seat Type  \\\n",
              "0       Bio Technology (4 Years, Bachelor of Technology)    HS        OPEN   \n",
              "1       Bio Technology (4 Years, Bachelor of Technology)    HS        OPEN   \n",
              "2       Bio Technology (4 Years, Bachelor of Technology)    HS         EWS   \n",
              "3       Bio Technology (4 Years, Bachelor of Technology)    HS         EWS   \n",
              "4       Bio Technology (4 Years, Bachelor of Technology)    HS     OBC-NCL   \n",
              "...                                                  ...   ...         ...   \n",
              "34694  Computer Science (5 Years, Integrated Master o...    AI        OPEN   \n",
              "34695  Computer Science (5 Years, Integrated Master o...    AI  OPEN (PwD)   \n",
              "34696  Computer Science (5 Years, Integrated Master o...    AI     OBC-NCL   \n",
              "34697  Computer Science (5 Years, Integrated Master o...    AI          SC   \n",
              "34698  Computer Science (5 Years, Integrated Master o...    AI          ST   \n",
              "\n",
              "                                      Gender  Opening Rank  Closing Rank  \n",
              "0                             Gender-Neutral       54131.0       67053.0  \n",
              "1      Female-only (including Supernumerary)       45890.0       70992.0  \n",
              "2                             Gender-Neutral       10370.0       13354.0  \n",
              "3      Female-only (including Supernumerary)       15448.0       15448.0  \n",
              "4                             Gender-Neutral       29569.0       49056.0  \n",
              "...                                      ...           ...           ...  \n",
              "34694                                    NaN        8977.0       13893.0  \n",
              "34695                                    NaN         712.0         712.0  \n",
              "34696                                    NaN        3935.0        5901.0  \n",
              "34697                                    NaN        1970.0        3162.0  \n",
              "34698                                    NaN        1202.0        1202.0  \n",
              "\n",
              "[34699 rows x 7 columns]"
            ],
            "text/html": [
              "\n",
              "  <div id=\"df-a7d1c3cc-ebd1-4e73-8c60-c78c2d86ec9a\">\n",
              "    <div class=\"colab-df-container\">\n",
              "      <div>\n",
              "<style scoped>\n",
              "    .dataframe tbody tr th:only-of-type {\n",
              "        vertical-align: middle;\n",
              "    }\n",
              "\n",
              "    .dataframe tbody tr th {\n",
              "        vertical-align: top;\n",
              "    }\n",
              "\n",
              "    .dataframe thead th {\n",
              "        text-align: right;\n",
              "    }\n",
              "</style>\n",
              "<table border=\"1\" class=\"dataframe\">\n",
              "  <thead>\n",
              "    <tr style=\"text-align: right;\">\n",
              "      <th></th>\n",
              "      <th>Institute</th>\n",
              "      <th>Academic Program Name</th>\n",
              "      <th>Quota</th>\n",
              "      <th>Seat Type</th>\n",
              "      <th>Gender</th>\n",
              "      <th>Opening Rank</th>\n",
              "      <th>Closing Rank</th>\n",
              "    </tr>\n",
              "  </thead>\n",
              "  <tbody>\n",
              "    <tr>\n",
              "      <th>0</th>\n",
              "      <td>Dr. B R Ambedkar National Institute of Technol...</td>\n",
              "      <td>Bio Technology (4 Years, Bachelor of Technology)</td>\n",
              "      <td>HS</td>\n",
              "      <td>OPEN</td>\n",
              "      <td>Gender-Neutral</td>\n",
              "      <td>54131.0</td>\n",
              "      <td>67053.0</td>\n",
              "    </tr>\n",
              "    <tr>\n",
              "      <th>1</th>\n",
              "      <td>Dr. B R Ambedkar National Institute of Technol...</td>\n",
              "      <td>Bio Technology (4 Years, Bachelor of Technology)</td>\n",
              "      <td>HS</td>\n",
              "      <td>OPEN</td>\n",
              "      <td>Female-only (including Supernumerary)</td>\n",
              "      <td>45890.0</td>\n",
              "      <td>70992.0</td>\n",
              "    </tr>\n",
              "    <tr>\n",
              "      <th>2</th>\n",
              "      <td>Dr. B R Ambedkar National Institute of Technol...</td>\n",
              "      <td>Bio Technology (4 Years, Bachelor of Technology)</td>\n",
              "      <td>HS</td>\n",
              "      <td>EWS</td>\n",
              "      <td>Gender-Neutral</td>\n",
              "      <td>10370.0</td>\n",
              "      <td>13354.0</td>\n",
              "    </tr>\n",
              "    <tr>\n",
              "      <th>3</th>\n",
              "      <td>Dr. B R Ambedkar National Institute of Technol...</td>\n",
              "      <td>Bio Technology (4 Years, Bachelor of Technology)</td>\n",
              "      <td>HS</td>\n",
              "      <td>EWS</td>\n",
              "      <td>Female-only (including Supernumerary)</td>\n",
              "      <td>15448.0</td>\n",
              "      <td>15448.0</td>\n",
              "    </tr>\n",
              "    <tr>\n",
              "      <th>4</th>\n",
              "      <td>Dr. B R Ambedkar National Institute of Technol...</td>\n",
              "      <td>Bio Technology (4 Years, Bachelor of Technology)</td>\n",
              "      <td>HS</td>\n",
              "      <td>OBC-NCL</td>\n",
              "      <td>Gender-Neutral</td>\n",
              "      <td>29569.0</td>\n",
              "      <td>49056.0</td>\n",
              "    </tr>\n",
              "    <tr>\n",
              "      <th>...</th>\n",
              "      <td>...</td>\n",
              "      <td>...</td>\n",
              "      <td>...</td>\n",
              "      <td>...</td>\n",
              "      <td>...</td>\n",
              "      <td>...</td>\n",
              "      <td>...</td>\n",
              "    </tr>\n",
              "    <tr>\n",
              "      <th>34694</th>\n",
              "      <td>University of Hyderabad</td>\n",
              "      <td>Computer Science (5 Years, Integrated Master o...</td>\n",
              "      <td>AI</td>\n",
              "      <td>OPEN</td>\n",
              "      <td>NaN</td>\n",
              "      <td>8977.0</td>\n",
              "      <td>13893.0</td>\n",
              "    </tr>\n",
              "    <tr>\n",
              "      <th>34695</th>\n",
              "      <td>University of Hyderabad</td>\n",
              "      <td>Computer Science (5 Years, Integrated Master o...</td>\n",
              "      <td>AI</td>\n",
              "      <td>OPEN (PwD)</td>\n",
              "      <td>NaN</td>\n",
              "      <td>712.0</td>\n",
              "      <td>712.0</td>\n",
              "    </tr>\n",
              "    <tr>\n",
              "      <th>34696</th>\n",
              "      <td>University of Hyderabad</td>\n",
              "      <td>Computer Science (5 Years, Integrated Master o...</td>\n",
              "      <td>AI</td>\n",
              "      <td>OBC-NCL</td>\n",
              "      <td>NaN</td>\n",
              "      <td>3935.0</td>\n",
              "      <td>5901.0</td>\n",
              "    </tr>\n",
              "    <tr>\n",
              "      <th>34697</th>\n",
              "      <td>University of Hyderabad</td>\n",
              "      <td>Computer Science (5 Years, Integrated Master o...</td>\n",
              "      <td>AI</td>\n",
              "      <td>SC</td>\n",
              "      <td>NaN</td>\n",
              "      <td>1970.0</td>\n",
              "      <td>3162.0</td>\n",
              "    </tr>\n",
              "    <tr>\n",
              "      <th>34698</th>\n",
              "      <td>University of Hyderabad</td>\n",
              "      <td>Computer Science (5 Years, Integrated Master o...</td>\n",
              "      <td>AI</td>\n",
              "      <td>ST</td>\n",
              "      <td>NaN</td>\n",
              "      <td>1202.0</td>\n",
              "      <td>1202.0</td>\n",
              "    </tr>\n",
              "  </tbody>\n",
              "</table>\n",
              "<p>34699 rows × 7 columns</p>\n",
              "</div>\n",
              "      <button class=\"colab-df-convert\" onclick=\"convertToInteractive('df-a7d1c3cc-ebd1-4e73-8c60-c78c2d86ec9a')\"\n",
              "              title=\"Convert this dataframe to an interactive table.\"\n",
              "              style=\"display:none;\">\n",
              "        \n",
              "  <svg xmlns=\"http://www.w3.org/2000/svg\" height=\"24px\"viewBox=\"0 0 24 24\"\n",
              "       width=\"24px\">\n",
              "    <path d=\"M0 0h24v24H0V0z\" fill=\"none\"/>\n",
              "    <path d=\"M18.56 5.44l.94 2.06.94-2.06 2.06-.94-2.06-.94-.94-2.06-.94 2.06-2.06.94zm-11 1L8.5 8.5l.94-2.06 2.06-.94-2.06-.94L8.5 2.5l-.94 2.06-2.06.94zm10 10l.94 2.06.94-2.06 2.06-.94-2.06-.94-.94-2.06-.94 2.06-2.06.94z\"/><path d=\"M17.41 7.96l-1.37-1.37c-.4-.4-.92-.59-1.43-.59-.52 0-1.04.2-1.43.59L10.3 9.45l-7.72 7.72c-.78.78-.78 2.05 0 2.83L4 21.41c.39.39.9.59 1.41.59.51 0 1.02-.2 1.41-.59l7.78-7.78 2.81-2.81c.8-.78.8-2.07 0-2.86zM5.41 20L4 18.59l7.72-7.72 1.47 1.35L5.41 20z\"/>\n",
              "  </svg>\n",
              "      </button>\n",
              "      \n",
              "  <style>\n",
              "    .colab-df-container {\n",
              "      display:flex;\n",
              "      flex-wrap:wrap;\n",
              "      gap: 12px;\n",
              "    }\n",
              "\n",
              "    .colab-df-convert {\n",
              "      background-color: #E8F0FE;\n",
              "      border: none;\n",
              "      border-radius: 50%;\n",
              "      cursor: pointer;\n",
              "      display: none;\n",
              "      fill: #1967D2;\n",
              "      height: 32px;\n",
              "      padding: 0 0 0 0;\n",
              "      width: 32px;\n",
              "    }\n",
              "\n",
              "    .colab-df-convert:hover {\n",
              "      background-color: #E2EBFA;\n",
              "      box-shadow: 0px 1px 2px rgba(60, 64, 67, 0.3), 0px 1px 3px 1px rgba(60, 64, 67, 0.15);\n",
              "      fill: #174EA6;\n",
              "    }\n",
              "\n",
              "    [theme=dark] .colab-df-convert {\n",
              "      background-color: #3B4455;\n",
              "      fill: #D2E3FC;\n",
              "    }\n",
              "\n",
              "    [theme=dark] .colab-df-convert:hover {\n",
              "      background-color: #434B5C;\n",
              "      box-shadow: 0px 1px 3px 1px rgba(0, 0, 0, 0.15);\n",
              "      filter: drop-shadow(0px 1px 2px rgba(0, 0, 0, 0.3));\n",
              "      fill: #FFFFFF;\n",
              "    }\n",
              "  </style>\n",
              "\n",
              "      <script>\n",
              "        const buttonEl =\n",
              "          document.querySelector('#df-a7d1c3cc-ebd1-4e73-8c60-c78c2d86ec9a button.colab-df-convert');\n",
              "        buttonEl.style.display =\n",
              "          google.colab.kernel.accessAllowed ? 'block' : 'none';\n",
              "\n",
              "        async function convertToInteractive(key) {\n",
              "          const element = document.querySelector('#df-a7d1c3cc-ebd1-4e73-8c60-c78c2d86ec9a');\n",
              "          const dataTable =\n",
              "            await google.colab.kernel.invokeFunction('convertToInteractive',\n",
              "                                                     [key], {});\n",
              "          if (!dataTable) return;\n",
              "\n",
              "          const docLinkHtml = 'Like what you see? Visit the ' +\n",
              "            '<a target=\"_blank\" href=https://colab.research.google.com/notebooks/data_table.ipynb>data table notebook</a>'\n",
              "            + ' to learn more about interactive tables.';\n",
              "          element.innerHTML = '';\n",
              "          dataTable['output_type'] = 'display_data';\n",
              "          await google.colab.output.renderOutput(dataTable, element);\n",
              "          const docLink = document.createElement('div');\n",
              "          docLink.innerHTML = docLinkHtml;\n",
              "          element.appendChild(docLink);\n",
              "        }\n",
              "      </script>\n",
              "    </div>\n",
              "  </div>\n",
              "  "
            ]
          },
          "metadata": {},
          "execution_count": 73
        }
      ]
    },
    {
      "cell_type": "code",
      "source": [
        "# df = df.drop(columns='Opening Rank', axis = 0)"
      ],
      "metadata": {
        "id": "plgwtGQ_meSe"
      },
      "execution_count": 74,
      "outputs": []
    },
    {
      "cell_type": "code",
      "source": [
        "df.isnull().sum()"
      ],
      "metadata": {
        "colab": {
          "base_uri": "https://localhost:8080/"
        },
        "id": "ra6bshOXdPPa",
        "outputId": "eb27ba23-c2f0-476c-d733-bb925b6c45dc"
      },
      "execution_count": 75,
      "outputs": [
        {
          "output_type": "execute_result",
          "data": {
            "text/plain": [
              "Institute                   0\n",
              "Academic Program Name       0\n",
              "Quota                       0\n",
              "Seat Type                   0\n",
              "Gender                   3151\n",
              "Opening Rank                0\n",
              "Closing Rank                0\n",
              "dtype: int64"
            ]
          },
          "metadata": {},
          "execution_count": 75
        }
      ]
    },
    {
      "cell_type": "code",
      "source": [
        "df['Gender'].unique()"
      ],
      "metadata": {
        "colab": {
          "base_uri": "https://localhost:8080/"
        },
        "id": "GP8fl12ZdgUg",
        "outputId": "430a4ada-8e64-4ef4-9b1e-f53c201b5047"
      },
      "execution_count": 76,
      "outputs": [
        {
          "output_type": "execute_result",
          "data": {
            "text/plain": [
              "array(['Gender-Neutral', 'Female-only (including Supernumerary)', nan],\n",
              "      dtype=object)"
            ]
          },
          "metadata": {},
          "execution_count": 76
        }
      ]
    },
    {
      "cell_type": "code",
      "source": [
        "# df['Gender'] = df[\"Gender\"].astype('category')"
      ],
      "metadata": {
        "id": "0G6llla7eyMQ"
      },
      "execution_count": 77,
      "outputs": []
    },
    {
      "cell_type": "code",
      "source": [
        "df['Gender'].fillna(\"Gender-Neutral\", inplace = True)"
      ],
      "metadata": {
        "id": "rThxXWa8g9g0"
      },
      "execution_count": 78,
      "outputs": []
    },
    {
      "cell_type": "code",
      "source": [
        "df.isnull().sum()"
      ],
      "metadata": {
        "colab": {
          "base_uri": "https://localhost:8080/"
        },
        "id": "l7lPH_r-ick_",
        "outputId": "02eb8b51-2fc6-46a5-d00f-cf711e5b947f"
      },
      "execution_count": 79,
      "outputs": [
        {
          "output_type": "execute_result",
          "data": {
            "text/plain": [
              "Institute                0\n",
              "Academic Program Name    0\n",
              "Quota                    0\n",
              "Seat Type                0\n",
              "Gender                   0\n",
              "Opening Rank             0\n",
              "Closing Rank             0\n",
              "dtype: int64"
            ]
          },
          "metadata": {},
          "execution_count": 79
        }
      ]
    },
    {
      "cell_type": "code",
      "source": [
        "df['Closing Rank'].unique()"
      ],
      "metadata": {
        "colab": {
          "base_uri": "https://localhost:8080/"
        },
        "id": "BJg-B6Cj8sat",
        "outputId": "75f7abe4-be9f-4cea-e3ae-e7ad88385eec"
      },
      "execution_count": 80,
      "outputs": [
        {
          "output_type": "execute_result",
          "data": {
            "text/plain": [
              "array([67053., 70992., 13354., ..., 23668.,  6278., 13893.])"
            ]
          },
          "metadata": {},
          "execution_count": 80
        }
      ]
    },
    {
      "cell_type": "code",
      "source": [
        "df.dtypes"
      ],
      "metadata": {
        "colab": {
          "base_uri": "https://localhost:8080/"
        },
        "id": "gIdAkbdGKV3u",
        "outputId": "3162c5ba-fd8c-482d-84f9-62f3c9fb60f6"
      },
      "execution_count": 81,
      "outputs": [
        {
          "output_type": "execute_result",
          "data": {
            "text/plain": [
              "Institute                 object\n",
              "Academic Program Name     object\n",
              "Quota                     object\n",
              "Seat Type                 object\n",
              "Gender                    object\n",
              "Opening Rank             float64\n",
              "Closing Rank             float64\n",
              "dtype: object"
            ]
          },
          "metadata": {},
          "execution_count": 81
        }
      ]
    },
    {
      "cell_type": "code",
      "source": [
        "# import re\n",
        "\n",
        "# pattern = r'\\D'\n",
        "# mask = df['Closing Rank'].astype(str).str.contains(pattern)\n",
        "\n",
        "# print(df[mask])"
      ],
      "metadata": {
        "id": "xWLJl053Oq2e"
      },
      "execution_count": 82,
      "outputs": []
    },
    {
      "cell_type": "code",
      "source": [
        "# h =0\n",
        "# for i in df['Closing Rank']:\n",
        "#   if i == '':\n",
        "#     print(h)\n",
        "#   h +=1"
      ],
      "metadata": {
        "id": "1UT6BV6wBI7t"
      },
      "execution_count": 83,
      "outputs": []
    },
    {
      "cell_type": "code",
      "source": [
        "# df.drop([13918],axis = 0,inplace = True)"
      ],
      "metadata": {
        "id": "aXXmppsMG43O"
      },
      "execution_count": 84,
      "outputs": []
    },
    {
      "cell_type": "code",
      "source": [
        "# num_labels = []\n",
        "# for label, content in X.items():\n",
        "#     if pd.api.types.is_numeric_dtype(content):\n",
        "#       num_labels.append(label)"
      ],
      "metadata": {
        "id": "eATiQ5udFLUJ"
      },
      "execution_count": 85,
      "outputs": []
    },
    {
      "cell_type": "code",
      "source": [
        "# others = list(X.columns)\n",
        "# for i in num_labels:\n",
        "#   others.remove(i)"
      ],
      "metadata": {
        "id": "3wuOtt2UFL7I"
      },
      "execution_count": 86,
      "outputs": []
    },
    {
      "cell_type": "code",
      "source": [
        "# ct = make_column_transformer(\n",
        "#     (MinMaxScaler(), num_labels),\n",
        "#     (LabelEncoder(),others))"
      ],
      "metadata": {
        "id": "m2xD-5TuFmIf"
      },
      "execution_count": 87,
      "outputs": []
    },
    {
      "cell_type": "code",
      "source": [
        "X = df.iloc[:,1:]\n",
        "y = df.iloc[:,0]"
      ],
      "metadata": {
        "id": "2rbDRoFvnks5"
      },
      "execution_count": 88,
      "outputs": []
    },
    {
      "cell_type": "code",
      "source": [
        "cols_to_encode = ['Academic Program Name', 'Quota', 'Seat Type', 'Gender']\n",
        "encoder = LabelEncoder()\n",
        "# H = encoder.fit_transform(X[cols_to_encode])\n",
        "for col in cols_to_encode:\n",
        "    X[col] = encoder.fit_transform(X[col])"
      ],
      "metadata": {
        "id": "JgQH4C8TQFy8"
      },
      "execution_count": 89,
      "outputs": []
    },
    {
      "cell_type": "code",
      "source": [
        "X"
      ],
      "metadata": {
        "colab": {
          "base_uri": "https://localhost:8080/",
          "height": 424
        },
        "id": "F97QcgiP-ZOF",
        "outputId": "55524d44-16e2-4891-be92-bee01bd16049"
      },
      "execution_count": 90,
      "outputs": [
        {
          "output_type": "execute_result",
          "data": {
            "text/plain": [
              "       Academic Program Name  Quota  Seat Type  Gender  Opening Rank  \\\n",
              "0                         14      3          4       1       54131.0   \n",
              "1                         14      3          4       0       45890.0   \n",
              "2                         14      3          0       1       10370.0   \n",
              "3                         14      3          0       0       15448.0   \n",
              "4                         14      3          2       1       29569.0   \n",
              "...                      ...    ...        ...     ...           ...   \n",
              "34694                     35      0          4       1        8977.0   \n",
              "34695                     35      0          5       1         712.0   \n",
              "34696                     35      0          2       1        3935.0   \n",
              "34697                     35      0          6       1        1970.0   \n",
              "34698                     35      0          8       1        1202.0   \n",
              "\n",
              "       Closing Rank  \n",
              "0           67053.0  \n",
              "1           70992.0  \n",
              "2           13354.0  \n",
              "3           15448.0  \n",
              "4           49056.0  \n",
              "...             ...  \n",
              "34694       13893.0  \n",
              "34695         712.0  \n",
              "34696        5901.0  \n",
              "34697        3162.0  \n",
              "34698        1202.0  \n",
              "\n",
              "[34699 rows x 6 columns]"
            ],
            "text/html": [
              "\n",
              "  <div id=\"df-ecb8bcc9-2afd-4b6c-ae08-6d4a010bcea2\">\n",
              "    <div class=\"colab-df-container\">\n",
              "      <div>\n",
              "<style scoped>\n",
              "    .dataframe tbody tr th:only-of-type {\n",
              "        vertical-align: middle;\n",
              "    }\n",
              "\n",
              "    .dataframe tbody tr th {\n",
              "        vertical-align: top;\n",
              "    }\n",
              "\n",
              "    .dataframe thead th {\n",
              "        text-align: right;\n",
              "    }\n",
              "</style>\n",
              "<table border=\"1\" class=\"dataframe\">\n",
              "  <thead>\n",
              "    <tr style=\"text-align: right;\">\n",
              "      <th></th>\n",
              "      <th>Academic Program Name</th>\n",
              "      <th>Quota</th>\n",
              "      <th>Seat Type</th>\n",
              "      <th>Gender</th>\n",
              "      <th>Opening Rank</th>\n",
              "      <th>Closing Rank</th>\n",
              "    </tr>\n",
              "  </thead>\n",
              "  <tbody>\n",
              "    <tr>\n",
              "      <th>0</th>\n",
              "      <td>14</td>\n",
              "      <td>3</td>\n",
              "      <td>4</td>\n",
              "      <td>1</td>\n",
              "      <td>54131.0</td>\n",
              "      <td>67053.0</td>\n",
              "    </tr>\n",
              "    <tr>\n",
              "      <th>1</th>\n",
              "      <td>14</td>\n",
              "      <td>3</td>\n",
              "      <td>4</td>\n",
              "      <td>0</td>\n",
              "      <td>45890.0</td>\n",
              "      <td>70992.0</td>\n",
              "    </tr>\n",
              "    <tr>\n",
              "      <th>2</th>\n",
              "      <td>14</td>\n",
              "      <td>3</td>\n",
              "      <td>0</td>\n",
              "      <td>1</td>\n",
              "      <td>10370.0</td>\n",
              "      <td>13354.0</td>\n",
              "    </tr>\n",
              "    <tr>\n",
              "      <th>3</th>\n",
              "      <td>14</td>\n",
              "      <td>3</td>\n",
              "      <td>0</td>\n",
              "      <td>0</td>\n",
              "      <td>15448.0</td>\n",
              "      <td>15448.0</td>\n",
              "    </tr>\n",
              "    <tr>\n",
              "      <th>4</th>\n",
              "      <td>14</td>\n",
              "      <td>3</td>\n",
              "      <td>2</td>\n",
              "      <td>1</td>\n",
              "      <td>29569.0</td>\n",
              "      <td>49056.0</td>\n",
              "    </tr>\n",
              "    <tr>\n",
              "      <th>...</th>\n",
              "      <td>...</td>\n",
              "      <td>...</td>\n",
              "      <td>...</td>\n",
              "      <td>...</td>\n",
              "      <td>...</td>\n",
              "      <td>...</td>\n",
              "    </tr>\n",
              "    <tr>\n",
              "      <th>34694</th>\n",
              "      <td>35</td>\n",
              "      <td>0</td>\n",
              "      <td>4</td>\n",
              "      <td>1</td>\n",
              "      <td>8977.0</td>\n",
              "      <td>13893.0</td>\n",
              "    </tr>\n",
              "    <tr>\n",
              "      <th>34695</th>\n",
              "      <td>35</td>\n",
              "      <td>0</td>\n",
              "      <td>5</td>\n",
              "      <td>1</td>\n",
              "      <td>712.0</td>\n",
              "      <td>712.0</td>\n",
              "    </tr>\n",
              "    <tr>\n",
              "      <th>34696</th>\n",
              "      <td>35</td>\n",
              "      <td>0</td>\n",
              "      <td>2</td>\n",
              "      <td>1</td>\n",
              "      <td>3935.0</td>\n",
              "      <td>5901.0</td>\n",
              "    </tr>\n",
              "    <tr>\n",
              "      <th>34697</th>\n",
              "      <td>35</td>\n",
              "      <td>0</td>\n",
              "      <td>6</td>\n",
              "      <td>1</td>\n",
              "      <td>1970.0</td>\n",
              "      <td>3162.0</td>\n",
              "    </tr>\n",
              "    <tr>\n",
              "      <th>34698</th>\n",
              "      <td>35</td>\n",
              "      <td>0</td>\n",
              "      <td>8</td>\n",
              "      <td>1</td>\n",
              "      <td>1202.0</td>\n",
              "      <td>1202.0</td>\n",
              "    </tr>\n",
              "  </tbody>\n",
              "</table>\n",
              "<p>34699 rows × 6 columns</p>\n",
              "</div>\n",
              "      <button class=\"colab-df-convert\" onclick=\"convertToInteractive('df-ecb8bcc9-2afd-4b6c-ae08-6d4a010bcea2')\"\n",
              "              title=\"Convert this dataframe to an interactive table.\"\n",
              "              style=\"display:none;\">\n",
              "        \n",
              "  <svg xmlns=\"http://www.w3.org/2000/svg\" height=\"24px\"viewBox=\"0 0 24 24\"\n",
              "       width=\"24px\">\n",
              "    <path d=\"M0 0h24v24H0V0z\" fill=\"none\"/>\n",
              "    <path d=\"M18.56 5.44l.94 2.06.94-2.06 2.06-.94-2.06-.94-.94-2.06-.94 2.06-2.06.94zm-11 1L8.5 8.5l.94-2.06 2.06-.94-2.06-.94L8.5 2.5l-.94 2.06-2.06.94zm10 10l.94 2.06.94-2.06 2.06-.94-2.06-.94-.94-2.06-.94 2.06-2.06.94z\"/><path d=\"M17.41 7.96l-1.37-1.37c-.4-.4-.92-.59-1.43-.59-.52 0-1.04.2-1.43.59L10.3 9.45l-7.72 7.72c-.78.78-.78 2.05 0 2.83L4 21.41c.39.39.9.59 1.41.59.51 0 1.02-.2 1.41-.59l7.78-7.78 2.81-2.81c.8-.78.8-2.07 0-2.86zM5.41 20L4 18.59l7.72-7.72 1.47 1.35L5.41 20z\"/>\n",
              "  </svg>\n",
              "      </button>\n",
              "      \n",
              "  <style>\n",
              "    .colab-df-container {\n",
              "      display:flex;\n",
              "      flex-wrap:wrap;\n",
              "      gap: 12px;\n",
              "    }\n",
              "\n",
              "    .colab-df-convert {\n",
              "      background-color: #E8F0FE;\n",
              "      border: none;\n",
              "      border-radius: 50%;\n",
              "      cursor: pointer;\n",
              "      display: none;\n",
              "      fill: #1967D2;\n",
              "      height: 32px;\n",
              "      padding: 0 0 0 0;\n",
              "      width: 32px;\n",
              "    }\n",
              "\n",
              "    .colab-df-convert:hover {\n",
              "      background-color: #E2EBFA;\n",
              "      box-shadow: 0px 1px 2px rgba(60, 64, 67, 0.3), 0px 1px 3px 1px rgba(60, 64, 67, 0.15);\n",
              "      fill: #174EA6;\n",
              "    }\n",
              "\n",
              "    [theme=dark] .colab-df-convert {\n",
              "      background-color: #3B4455;\n",
              "      fill: #D2E3FC;\n",
              "    }\n",
              "\n",
              "    [theme=dark] .colab-df-convert:hover {\n",
              "      background-color: #434B5C;\n",
              "      box-shadow: 0px 1px 3px 1px rgba(0, 0, 0, 0.15);\n",
              "      filter: drop-shadow(0px 1px 2px rgba(0, 0, 0, 0.3));\n",
              "      fill: #FFFFFF;\n",
              "    }\n",
              "  </style>\n",
              "\n",
              "      <script>\n",
              "        const buttonEl =\n",
              "          document.querySelector('#df-ecb8bcc9-2afd-4b6c-ae08-6d4a010bcea2 button.colab-df-convert');\n",
              "        buttonEl.style.display =\n",
              "          google.colab.kernel.accessAllowed ? 'block' : 'none';\n",
              "\n",
              "        async function convertToInteractive(key) {\n",
              "          const element = document.querySelector('#df-ecb8bcc9-2afd-4b6c-ae08-6d4a010bcea2');\n",
              "          const dataTable =\n",
              "            await google.colab.kernel.invokeFunction('convertToInteractive',\n",
              "                                                     [key], {});\n",
              "          if (!dataTable) return;\n",
              "\n",
              "          const docLinkHtml = 'Like what you see? Visit the ' +\n",
              "            '<a target=\"_blank\" href=https://colab.research.google.com/notebooks/data_table.ipynb>data table notebook</a>'\n",
              "            + ' to learn more about interactive tables.';\n",
              "          element.innerHTML = '';\n",
              "          dataTable['output_type'] = 'display_data';\n",
              "          await google.colab.output.renderOutput(dataTable, element);\n",
              "          const docLink = document.createElement('div');\n",
              "          docLink.innerHTML = docLinkHtml;\n",
              "          element.appendChild(docLink);\n",
              "        }\n",
              "      </script>\n",
              "    </div>\n",
              "  </div>\n",
              "  "
            ]
          },
          "metadata": {},
          "execution_count": 90
        }
      ]
    },
    {
      "cell_type": "code",
      "source": [
        "# encode_H = pd.DataFrame(H.toarray(), columns=onehotencoder.get_feature_names_out(cols_to_encode))"
      ],
      "metadata": {
        "id": "d9WTD25CNhRG"
      },
      "execution_count": 91,
      "outputs": []
    },
    {
      "cell_type": "code",
      "source": [
        "# X = pd.concat([X, encode_H], axis=1)"
      ],
      "metadata": {
        "id": "YQYboW8ROO7x"
      },
      "execution_count": 92,
      "outputs": []
    },
    {
      "cell_type": "code",
      "source": [
        "# X.drop(cols_to_encode, axis=1, inplace=True)"
      ],
      "metadata": {
        "id": "r0fSahvgOjf1"
      },
      "execution_count": 93,
      "outputs": []
    },
    {
      "cell_type": "code",
      "source": [
        "# X = ct.fit_transform(X)"
      ],
      "metadata": {
        "id": "6u1CafFvPa7w"
      },
      "execution_count": 94,
      "outputs": []
    },
    {
      "cell_type": "code",
      "source": [
        "y_label = encoder.fit_transform(y)"
      ],
      "metadata": {
        "id": "TaRIBJ0k6FoX"
      },
      "execution_count": 95,
      "outputs": []
    },
    {
      "cell_type": "code",
      "source": [
        "y_label"
      ],
      "metadata": {
        "colab": {
          "base_uri": "https://localhost:8080/"
        },
        "id": "Ljn7jxTH_d-1",
        "outputId": "9025d0b7-a06c-45cb-cac3-4afdf9b97b82"
      },
      "execution_count": 96,
      "outputs": [
        {
          "output_type": "execute_result",
          "data": {
            "text/plain": [
              "array([ 7,  7,  7, ..., 94, 94, 94])"
            ]
          },
          "metadata": {},
          "execution_count": 96
        }
      ]
    },
    {
      "cell_type": "code",
      "source": [
        "X_train, X_test, y_train, y_test = train_test_split(X, y_label, test_size=0.20)"
      ],
      "metadata": {
        "id": "8dCHYM3BPcUv"
      },
      "execution_count": 97,
      "outputs": []
    },
    {
      "cell_type": "code",
      "source": [
        "print(\"Shape of X_train:\", X_train.shape)\n",
        "print(\"Shape of X_test:\", X_test.shape)"
      ],
      "metadata": {
        "colab": {
          "base_uri": "https://localhost:8080/"
        },
        "id": "mrb1xnYcMpVo",
        "outputId": "9ed189da-1d5d-4d2a-d62b-acf0d23ae7ca"
      },
      "execution_count": 98,
      "outputs": [
        {
          "output_type": "stream",
          "name": "stdout",
          "text": [
            "Shape of X_train: (27759, 6)\n",
            "Shape of X_test: (6940, 6)\n"
          ]
        }
      ]
    },
    {
      "cell_type": "code",
      "source": [
        "# y_train = encoder.fit_transform(y_train.array.reshape(-1,1)).toarray()"
      ],
      "metadata": {
        "id": "DvhhKPIxQxkh"
      },
      "execution_count": 99,
      "outputs": []
    },
    {
      "cell_type": "code",
      "source": [
        "# y_test = encoder.fit_transform(y_test.array.reshape(-1,1)).toarray()"
      ],
      "metadata": {
        "id": "sPcgxGx5RxX9"
      },
      "execution_count": 100,
      "outputs": []
    },
    {
      "cell_type": "code",
      "source": [
        "rf = RandomForestRegressor(n_estimators=250,\n",
        "                           max_features=(2/7), \n",
        "                           min_samples_split=5, \n",
        "                           n_jobs=10, \n",
        "                           random_state=1005)"
      ],
      "metadata": {
        "id": "LAGSFpPMTSBO"
      },
      "execution_count": 114,
      "outputs": []
    },
    {
      "cell_type": "code",
      "source": [
        "# from sklearn.model_selection import GridSearchCV, train_test_split\n",
        "# param_grid = {\n",
        "#     'n_estimators': [50, 100, 200],\n",
        "#     'max_depth': [5, 10, None],\n",
        "#     'min_samples_split': [2, 5, 10],\n",
        "#     'min_samples_leaf': [1, 2, 4],\n",
        "#     'max_features': ['sqrt', 'log2']\n",
        "# }\n",
        "# grid_search = GridSearchCV(estimator=rf, param_grid=param_grid, cv=5)\n",
        "# grid_search.fit(X_train, y_train)"
      ],
      "metadata": {
        "id": "0XzAEQ4WQN0P"
      },
      "execution_count": 102,
      "outputs": []
    },
    {
      "cell_type": "code",
      "source": [
        "# print('Best hyperparameters:', grid_search.best_params_)"
      ],
      "metadata": {
        "id": "UmIEGxCISH0-"
      },
      "execution_count": 103,
      "outputs": []
    },
    {
      "cell_type": "code",
      "source": [
        "# best_rf = grid_search.best_estimator_\n",
        "# y_pred = best_rf.predict(X_test)\n",
        "# accuracy = accuracy_score(y_test, y_pred)\n",
        "# print('Test accuracy:', accuracy)"
      ],
      "metadata": {
        "id": "nVTUV04ySQaW"
      },
      "execution_count": 104,
      "outputs": []
    },
    {
      "cell_type": "code",
      "source": [
        "rf.fit(X_train, y_train)"
      ],
      "metadata": {
        "colab": {
          "base_uri": "https://localhost:8080/",
          "height": 92
        },
        "id": "8B53kRBITZiG",
        "outputId": "5b07589d-d4c5-4bc3-bd1e-c20d0b319773"
      },
      "execution_count": 115,
      "outputs": [
        {
          "output_type": "execute_result",
          "data": {
            "text/plain": [
              "RandomForestRegressor(max_features=0.2857142857142857, min_samples_split=5,\n",
              "                      n_estimators=250, n_jobs=10, random_state=1005)"
            ],
            "text/html": [
              "<style>#sk-container-id-2 {color: black;background-color: white;}#sk-container-id-2 pre{padding: 0;}#sk-container-id-2 div.sk-toggleable {background-color: white;}#sk-container-id-2 label.sk-toggleable__label {cursor: pointer;display: block;width: 100%;margin-bottom: 0;padding: 0.3em;box-sizing: border-box;text-align: center;}#sk-container-id-2 label.sk-toggleable__label-arrow:before {content: \"▸\";float: left;margin-right: 0.25em;color: #696969;}#sk-container-id-2 label.sk-toggleable__label-arrow:hover:before {color: black;}#sk-container-id-2 div.sk-estimator:hover label.sk-toggleable__label-arrow:before {color: black;}#sk-container-id-2 div.sk-toggleable__content {max-height: 0;max-width: 0;overflow: hidden;text-align: left;background-color: #f0f8ff;}#sk-container-id-2 div.sk-toggleable__content pre {margin: 0.2em;color: black;border-radius: 0.25em;background-color: #f0f8ff;}#sk-container-id-2 input.sk-toggleable__control:checked~div.sk-toggleable__content {max-height: 200px;max-width: 100%;overflow: auto;}#sk-container-id-2 input.sk-toggleable__control:checked~label.sk-toggleable__label-arrow:before {content: \"▾\";}#sk-container-id-2 div.sk-estimator input.sk-toggleable__control:checked~label.sk-toggleable__label {background-color: #d4ebff;}#sk-container-id-2 div.sk-label input.sk-toggleable__control:checked~label.sk-toggleable__label {background-color: #d4ebff;}#sk-container-id-2 input.sk-hidden--visually {border: 0;clip: rect(1px 1px 1px 1px);clip: rect(1px, 1px, 1px, 1px);height: 1px;margin: -1px;overflow: hidden;padding: 0;position: absolute;width: 1px;}#sk-container-id-2 div.sk-estimator {font-family: monospace;background-color: #f0f8ff;border: 1px dotted black;border-radius: 0.25em;box-sizing: border-box;margin-bottom: 0.5em;}#sk-container-id-2 div.sk-estimator:hover {background-color: #d4ebff;}#sk-container-id-2 div.sk-parallel-item::after {content: \"\";width: 100%;border-bottom: 1px solid gray;flex-grow: 1;}#sk-container-id-2 div.sk-label:hover label.sk-toggleable__label {background-color: #d4ebff;}#sk-container-id-2 div.sk-serial::before {content: \"\";position: absolute;border-left: 1px solid gray;box-sizing: border-box;top: 0;bottom: 0;left: 50%;z-index: 0;}#sk-container-id-2 div.sk-serial {display: flex;flex-direction: column;align-items: center;background-color: white;padding-right: 0.2em;padding-left: 0.2em;position: relative;}#sk-container-id-2 div.sk-item {position: relative;z-index: 1;}#sk-container-id-2 div.sk-parallel {display: flex;align-items: stretch;justify-content: center;background-color: white;position: relative;}#sk-container-id-2 div.sk-item::before, #sk-container-id-2 div.sk-parallel-item::before {content: \"\";position: absolute;border-left: 1px solid gray;box-sizing: border-box;top: 0;bottom: 0;left: 50%;z-index: -1;}#sk-container-id-2 div.sk-parallel-item {display: flex;flex-direction: column;z-index: 1;position: relative;background-color: white;}#sk-container-id-2 div.sk-parallel-item:first-child::after {align-self: flex-end;width: 50%;}#sk-container-id-2 div.sk-parallel-item:last-child::after {align-self: flex-start;width: 50%;}#sk-container-id-2 div.sk-parallel-item:only-child::after {width: 0;}#sk-container-id-2 div.sk-dashed-wrapped {border: 1px dashed gray;margin: 0 0.4em 0.5em 0.4em;box-sizing: border-box;padding-bottom: 0.4em;background-color: white;}#sk-container-id-2 div.sk-label label {font-family: monospace;font-weight: bold;display: inline-block;line-height: 1.2em;}#sk-container-id-2 div.sk-label-container {text-align: center;}#sk-container-id-2 div.sk-container {/* jupyter's `normalize.less` sets `[hidden] { display: none; }` but bootstrap.min.css set `[hidden] { display: none !important; }` so we also need the `!important` here to be able to override the default hidden behavior on the sphinx rendered scikit-learn.org. See: https://github.com/scikit-learn/scikit-learn/issues/21755 */display: inline-block !important;position: relative;}#sk-container-id-2 div.sk-text-repr-fallback {display: none;}</style><div id=\"sk-container-id-2\" class=\"sk-top-container\"><div class=\"sk-text-repr-fallback\"><pre>RandomForestRegressor(max_features=0.2857142857142857, min_samples_split=5,\n",
              "                      n_estimators=250, n_jobs=10, random_state=1005)</pre><b>In a Jupyter environment, please rerun this cell to show the HTML representation or trust the notebook. <br />On GitHub, the HTML representation is unable to render, please try loading this page with nbviewer.org.</b></div><div class=\"sk-container\" hidden><div class=\"sk-item\"><div class=\"sk-estimator sk-toggleable\"><input class=\"sk-toggleable__control sk-hidden--visually\" id=\"sk-estimator-id-2\" type=\"checkbox\" checked><label for=\"sk-estimator-id-2\" class=\"sk-toggleable__label sk-toggleable__label-arrow\">RandomForestRegressor</label><div class=\"sk-toggleable__content\"><pre>RandomForestRegressor(max_features=0.2857142857142857, min_samples_split=5,\n",
              "                      n_estimators=250, n_jobs=10, random_state=1005)</pre></div></div></div></div></div>"
            ]
          },
          "metadata": {},
          "execution_count": 115
        }
      ]
    },
    {
      "cell_type": "code",
      "source": [
        "train_predictions = rf.predict(X_train)\n",
        "test_predictions = rf.predict(X_test)\n",
        "\n",
        "train_mse = np.sqrt(mean_squared_error(y_train, train_predictions))\n",
        "test_mse = np.sqrt(mean_squared_error(y_test, test_predictions))\n",
        "train_r2 = rf.score(X_train, y_train)\n",
        "test_r2 = rf.score(X_test, y_test)\n",
        "\n",
        "print(\"Train MSE ::\", train_mse)\n",
        "print(\"Test MSE ::\", test_mse)\n",
        "print(\"Train R^2 ::\", train_r2)\n",
        "print(\"Test R^2 ::\", test_r2)"
      ],
      "metadata": {
        "colab": {
          "base_uri": "https://localhost:8080/"
        },
        "id": "hJoeIBeITbtR",
        "outputId": "1df7df1f-79fa-49af-e12e-2dff5f60211d"
      },
      "execution_count": 116,
      "outputs": [
        {
          "output_type": "stream",
          "name": "stdout",
          "text": [
            "Train MSE :: 11.428628724100967\n",
            "Test MSE :: 20.785163670597452\n",
            "Train R^2 :: 0.7802576651107576\n",
            "Test R^2 :: 0.2773951233715267\n"
          ]
        }
      ]
    },
    {
      "cell_type": "code",
      "source": [
        "features = X.columns\n",
        "importances = rf.feature_importances_\n",
        "indices = np.argsort(importances)\n",
        "\n",
        "plt.title('Feature Importances')\n",
        "plt.barh(range(len(indices)), importances[indices], color='b', align='center')\n",
        "plt.yticks(range(len(indices)), [features[i] for i in indices])\n",
        "plt.xlabel('Relative Importance')\n",
        "plt.show()"
      ],
      "metadata": {
        "colab": {
          "base_uri": "https://localhost:8080/",
          "height": 472
        },
        "id": "POhNfCYRyDHQ",
        "outputId": "c3f5f934-2cd8-441e-fd93-36c930f25740"
      },
      "execution_count": 107,
      "outputs": [
        {
          "output_type": "display_data",
          "data": {
            "text/plain": [
              "<Figure size 640x480 with 1 Axes>"
            ],
            "image/png": "[encoded data removed]"
          },
          "metadata": {}
        }
      ]
    },
    {
      "cell_type": "code",
      "source": [
        "newPerson = [[ 5, 3, 3, 1, 1, 19]]"
      ],
      "metadata": {
        "id": "Usw-ox44TOkq"
      },
      "execution_count": 108,
      "outputs": []
    },
    {
      "cell_type": "code",
      "source": [
        "# custom_input = {\n",
        "#     'Academic Program Name': 'Computer Science and Engineering (4 Years, Bachelor of Technology))',\n",
        "#     'Quota': 'AI',\n",
        "#     'Seat Type': 'OPEN',\n",
        "#     'Gender': 'Gender Neutral',\n",
        "#     'Opening Rank': 6969,\n",
        "#     'Closing Rank': 9892\n",
        "# }"
      ],
      "metadata": {
        "id": "bjUQ9BqJCk2v"
      },
      "execution_count": 109,
      "outputs": []
    },
    {
      "cell_type": "code",
      "source": [
        "# encoded_input = {\n",
        "#     'Academic Program Name': encoder.transform([custom_input['Academic Program Name']]),\n",
        "#     'Quota': encoder.transform([custom_input['Quota']]),\n",
        "#     'Seat Type': encoder.transform([custom_input['Seat Type']]),\n",
        "#     'Gender': encoder.transform([custom_input['Gender']]),\n",
        "#     'Opening Rank': encoder.transform([custom_input['Opening Rank']]),\n",
        "#     'Closing Rank': encoder.transform([custom_input['Closing Rank']]),\n",
        "# }"
      ],
      "metadata": {
        "id": "XLZ7-OH7KoHI"
      },
      "execution_count": 110,
      "outputs": []
    },
    {
      "cell_type": "code",
      "source": [
        "pred = rf.predict(newPerson)\n",
        "pred"
      ],
      "metadata": {
        "id": "aPS44ZRLZB4d",
        "colab": {
          "base_uri": "https://localhost:8080/"
        },
        "outputId": "299ce40b-9412-4e70-8191-ac75c2dc4e3b"
      },
      "execution_count": 111,
      "outputs": [
        {
          "output_type": "stream",
          "name": "stderr",
          "text": [
            "/usr/local/lib/python3.9/dist-packages/sklearn/base.py:439: UserWarning: X does not have valid feature names, but RandomForestRegressor was fitted with feature names\n",
            "  warnings.warn(\n"
          ]
        },
        {
          "output_type": "execute_result",
          "data": {
            "text/plain": [
              "array([69.90814286])"
            ]
          },
          "metadata": {},
          "execution_count": 111
        }
      ]
    },
    {
      "cell_type": "code",
      "source": [
        "J = pred[0]"
      ],
      "metadata": {
        "id": "GkFcICI1Bpve"
      },
      "execution_count": 112,
      "outputs": []
    },
    {
      "cell_type": "code",
      "source": [
        "original_label = encoder.inverse_transform([int(J)])\n",
        "original_label"
      ],
      "metadata": {
        "id": "i7zuIFsoBIQ2",
        "colab": {
          "base_uri": "https://localhost:8080/"
        },
        "outputId": "4e1fbdc1-b71d-44e8-f3c8-c93e266b368f"
      },
      "execution_count": 113,
      "outputs": [
        {
          "output_type": "execute_result",
          "data": {
            "text/plain": [
              "array(['National Institute of Technology Sikkim'], dtype=object)"
            ]
          },
          "metadata": {},
          "execution_count": 113
        }
      ]
    },
    {
      "cell_type": "code",
      "source": [
        "import numpy as np\n",
        "import pandas as pd\n",
        "import matplotlib.pyplot as plt\n",
        "import seaborn as sns\n",
        "from sklearn.model_selection import train_test_split\n",
        "from sklearn.metrics import mean_squared_error, accuracy_score\n",
        "from sklearn import preprocessing\n",
        "from sklearn.preprocessing import LabelEncoder\n",
        "from sklearn.ensemble import RandomForestRegressor\n",
        "from sklearn.preprocessing import MinMaxScaler, OneHotEncoder\n",
        "\n",
        "df = pd.read_csv('/content/Round2_JeeMain_Cutoff_2017-2022.csv')\n",
        "df = df.iloc[:,:7]\n",
        "\n",
        "df['Gender'].fillna(\"Gender-Neutral\", inplace = True)\n",
        "\n",
        "X = df.iloc[:,1:]\n",
        "y = df.iloc[:,0]\n",
        "\n",
        "cols_to_encode = ['Academic Program Name', 'Quota', 'Seat Type', 'Gender']\n",
        "encoder = LabelEncoder()\n",
        "# H = encoder.fit_transform(X[cols_to_encode])\n",
        "for col in cols_to_encode:\n",
        "    X[col] = encoder.fit_transform(X[col])\n",
        "\n",
        "y_label = encoder.fit_transform(y)\n",
        "\n",
        "X_train, X_test, y_train, y_test = train_test_split(X, y_label, test_size=0.20)\n",
        "\n",
        "rf = RandomForestRegressor(n_estimators=250,\n",
        "                           max_features=(2/7), \n",
        "                           min_samples_split=5, \n",
        "                           n_jobs=2, \n",
        "                           random_state=1005)\n",
        "\n",
        "rf.fit(X_train, y_train)\n",
        "\n",
        "train_predictions = rf.predict(X_train)\n",
        "test_predictions = rf.predict(X_test)\n",
        "\n",
        "train_mse = np.sqrt(mean_squared_error(y_train, train_predictions))\n",
        "test_mse = np.sqrt(mean_squared_error(y_test, test_predictions))\n",
        "train_r2 = rf.score(X_train, y_train)\n",
        "test_r2 = rf.score(X_test, y_test)\n",
        "\n",
        "print(\"Train MSE ::\", train_mse)\n",
        "print(\"Test MSE ::\", test_mse)\n",
        "print(\"Train R^2 ::\", train_r2)\n",
        "print(\"Test R^2 ::\", test_r2)\n",
        "\n",
        "newPerson = [[ 5, 3, 3, 1, 1, 19]]\n",
        "pred = rf.predict(newPerson)\n",
        "\n",
        "J = pred[0]\n",
        "original_label = encoder.inverse_transform([int(J)])\n",
        "original_label"
      ],
      "metadata": {
        "id": "KBCz6w9VBPwc",
        "colab": {
          "base_uri": "https://localhost:8080/"
        },
        "outputId": "9c917ba6-11eb-462e-d800-ebca564324f7"
      },
      "execution_count": 117,
      "outputs": [
        {
          "output_type": "stream",
          "name": "stdout",
          "text": [
            "Train MSE :: 11.453348183453958\n",
            "Test MSE :: 20.841389861515317\n",
            "Train R^2 :: 0.7799111697280058\n",
            "Test R^2 :: 0.26547322039011856\n"
          ]
        },
        {
          "output_type": "stream",
          "name": "stderr",
          "text": [
            "/usr/local/lib/python3.9/dist-packages/sklearn/base.py:439: UserWarning: X does not have valid feature names, but RandomForestRegressor was fitted with feature names\n",
            "  warnings.warn(\n"
          ]
        },
        {
          "output_type": "execute_result",
          "data": {
            "text/plain": [
              "array(['National Institute of Technology, Manipur'], dtype=object)"
            ]
          },
          "metadata": {},
          "execution_count": 117
        }
      ]
    },
    {
      "cell_type": "code",
      "source": [],
      "metadata": {
        "id": "q9ajHJwoSfp-"
      },
      "execution_count": null,
      "outputs": []
    }
  ]
}